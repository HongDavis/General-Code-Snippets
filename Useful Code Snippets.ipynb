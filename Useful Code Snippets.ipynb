{
 "cells": [
  {
   "cell_type": "markdown",
   "metadata": {},
   "source": [
    "A streamlined if else depending on a boolean."
   ]
  },
  {
   "cell_type": "code",
   "execution_count": 2,
   "metadata": {},
   "outputs": [
    {
     "name": "stdout",
     "output_type": "stream",
     "text": [
      "0\n"
     ]
    }
   ],
   "source": [
    "c = False\n",
    "x = 1 if c else 0\n",
    "print(x)"
   ]
  },
  {
   "cell_type": "markdown",
   "metadata": {},
   "source": [
    "Use underscore to separate large nummbers for easy reading. It will not affect computation.\n",
    "However, underscore will not be included in the result automatically. \n",
    "Use string format to add commas to the result instead."
   ]
  },
  {
   "cell_type": "code",
   "execution_count": 4,
   "metadata": {},
   "outputs": [
    {
     "name": "stdout",
     "output_type": "stream",
     "text": [
      "10100000000\n",
      "10,100,000,000\n"
     ]
    }
   ],
   "source": [
    "# Eg n1 = 10000000000\n",
    "# Eg n2 = 100000000\n",
    "n1 = 10_000_000_000\n",
    "n2 = 100_000_000\n",
    "n = n1 + n2\n",
    "print(n)\n",
    "print(f'{n:,}')"
   ]
  },
  {
   "cell_type": "markdown",
   "metadata": {},
   "source": [
    "Whenever possible, use context manager so that Python can help to manage resources automatically."
   ]
  },
  {
   "cell_type": "code",
   "execution_count": null,
   "metadata": {},
   "outputs": [],
   "source": [
    "f = open('test.txt', 'r')\n",
    "file_content = f.read()\n",
    "f.close()\n",
    "\n",
    "# Python context manager can help to manage the resources automatically ie, close the file automatically.\n",
    "with open('test.txt', 'r') as f:\n",
    "    file_contents = f.read()\n",
    "# The f.close() is not required as Python closes the file automatically. As long as codes that is setting up\n",
    "# and tearing down resources, context manager may works. Examples are opening and closing of databases.\n"
   ]
  },
  {
   "cell_type": "markdown",
   "metadata": {},
   "source": [
    "Instead of using a counter to index a list of variables, it is more efficient to use enumerate instead.\n",
    "Consider the following codes."
   ]
  },
  {
   "cell_type": "code",
   "execution_count": 8,
   "metadata": {},
   "outputs": [
    {
     "name": "stdout",
     "output_type": "stream",
     "text": [
      "0 Basset Hound\n",
      "1 CHihuahua\n",
      "2 Beagle\n",
      "3 Poodle\n",
      "0 Basset Hound\n",
      "1 CHihuahua\n",
      "2 Beagle\n",
      "3 Poodle\n",
      "1 Basset Hound\n",
      "2 CHihuahua\n",
      "3 Beagle\n",
      "4 Poodle\n"
     ]
    }
   ],
   "source": [
    "breeds = ['Basset Hound', 'CHihuahua','Beagle','Poodle']\n",
    "index = 0\n",
    "for breed in breeds:\n",
    "    print(index, breed)\n",
    "    index += 1\n",
    "\n",
    "# Use the enumerate function.\n",
    "breeds = ['Basset Hound', 'CHihuahua','Beagle','Poodle']\n",
    "for index, breed in enumerate(breeds):\n",
    "    print(index, breed)\n",
    "\n",
    "# User can choose which number to start for the index for eg;\n",
    "for index, breed in enumerate(breeds, start = 1):\n",
    "    print(index, breed)\n"
   ]
  },
  {
   "cell_type": "markdown",
   "metadata": {},
   "source": [
    "If there are 2 lists, use zip to retrieve the elements from the respective list rather than using enumerate."
   ]
  },
  {
   "cell_type": "code",
   "execution_count": 11,
   "metadata": {},
   "outputs": [
    {
     "name": "stdout",
     "output_type": "stream",
     "text": [
      "Ginger is a Basset Hound\n",
      "Bacon is a CHihuahua\n",
      "Apple is a Beagle\n",
      "Butter is a Poodle\n",
      "Ginger is a Basset Hound\n",
      "Bacon is a CHihuahua\n",
      "Apple is a Beagle\n",
      "Butter is a Poodle\n",
      "('Basset Hound', 'Ginger')\n",
      "('CHihuahua', 'Bacon')\n",
      "('Beagle', 'Apple')\n",
      "('Poodle', 'Butter')\n"
     ]
    }
   ],
   "source": [
    "breeds = ['Basset Hound', 'CHihuahua','Beagle','Poodle']\n",
    "petnames = ['Ginger','Bacon','Apple','Butter']\n",
    "\n",
    "for index, breed in enumerate(breeds):\n",
    "    petname = petnames[index]\n",
    "    print(f'{petname} is a {breed}')\n",
    "\n",
    "# Replace the above with the below codes. If lists are of different length, python will stop at the shortest lsit.\n",
    "# However, if wanted to stop at the longer list, use functions in the iterator library.\n",
    "for breed, petname in zip(breeds, petnames): \n",
    "    print(f'{petname} is a {breed}')\n",
    "    \n",
    "# The zip function actually retuning a Tuple. Therefore, using tuple unpacking can view all the values in the tuple like this;\n",
    "for values in zip(breeds, petnames):\n",
    "    print(values)"
   ]
  },
  {
   "cell_type": "markdown",
   "metadata": {},
   "source": [
    "Tuple unpacking. Error will occur when the variables are not equal to the number of elements or vice versa when unpacking. To avoid error, use an underscore to tell python to ignore remaining elements."
   ]
  },
  {
   "cell_type": "code",
   "execution_count": 19,
   "metadata": {},
   "outputs": [
    {
     "name": "stdout",
     "output_type": "stream",
     "text": [
      "Basset Hound\n",
      "CHihuahua\n",
      "Beagle\n",
      "Poodle\n",
      "Basset Hound CHihuahua\n",
      "Basset Hound\n",
      "CHihuahua\n",
      "['Beagle', 'Poodle']\n",
      "Basset Hound ['CHihuahua', 'Beagle'] Poodle\n"
     ]
    }
   ],
   "source": [
    "breeds = ['Basset Hound', 'CHihuahua','Beagle','Poodle']\n",
    "a,b,c,d = breeds\n",
    "print(a)\n",
    "print(b)\n",
    "print(c)\n",
    "print(d)\n",
    "\n",
    "# If user only interested in the first 2 elements, user can sttill unpack the tuple by using underscore for each of the\n",
    "# elements.\n",
    "a,b,_,_ = breeds\n",
    "print (a, b)\n",
    "\n",
    "# Alternatively, use the * to instruct python to assign the elements to the variable which can be in a form of a list.\n",
    "a, b, *c = breeds\n",
    "print(a)\n",
    "print(b)\n",
    "print(c)\n",
    "\n",
    "a, *b , c = breeds # In this example, the 2nd and the 3rd elements are assigned to b and the last element is assigned to c.\n",
    "print(a,b,c)"
   ]
  },
  {
   "cell_type": "code",
   "execution_count": 31,
   "metadata": {},
   "outputs": [
    {
     "name": "stdout",
     "output_type": "stream",
     "text": [
      "Jane\n",
      "Jane Doe\n",
      "Jane\n",
      "Doe\n"
     ]
    }
   ],
   "source": [
    "class Person():\n",
    "    pass\n",
    "\n",
    "person = Person()\n",
    "# person.first = 'Corey' # Usual way of setting an attribute and assigning a value to the attribute at the same time\n",
    "# print(person.first)\n",
    "\n",
    "# If one tries to set an attribute using a value of a variable (ie, first_key) as shown in the 'person.first_key...'\n",
    "# it won't work. Python simply assign 'first_key' as the attribute name.\n",
    "first_key = 'first'\n",
    "first_val = 'Jane'\n",
    "# => person.first_key = first_val\n",
    "\n",
    "# Use the setattr method to assign the value of the variable as the attribute instead.\n",
    "setattr(person, first_key, first_val)\n",
    "print(person.first)\n",
    "\n",
    "person_info = {'first': 'Jane', 'last': 'Doe'}\n",
    "for key, value in person_info.items():\n",
    "    setattr(person, key, value)\n",
    "\n",
    "print(person.first, person.last)\n",
    "# Alternatively...\n",
    "for key in person_info.keys():\n",
    "    print(getattr(person, key))"
   ]
  },
  {
   "cell_type": "markdown",
   "metadata": {},
   "source": [
    "Use the function getpass in the getpass library to get masked input from user for eg, getting password input."
   ]
  },
  {
   "cell_type": "code",
   "execution_count": 38,
   "metadata": {},
   "outputs": [
    {
     "name": "stdout",
     "output_type": "stream",
     "text": [
      "Username: test\n",
      "Password: ········\n",
      "You entered 'Password123' as your password.\n"
     ]
    }
   ],
   "source": [
    "from getpass import getpass\n",
    "username = input('Username: ')\n",
    "password = getpass('Password: ')\n",
    "print(f'You entered \\'{password}\\' as your password.')\n"
   ]
  },
  {
   "cell_type": "markdown",
   "metadata": {},
   "source": [
    "User can import library during runtime eg, python -m smtpd -c DebuggingServer -n localhost: 1025\n",
    "Library name comes after the -m, in this example, smtpd is the library. To find out the available parameters,\n",
    "launch python interpreter then, import the library. After that, type help (library) to view the list of parameters.\n",
    "Type dir(method) to view all available functions."
   ]
  },
  {
   "cell_type": "code",
   "execution_count": null,
   "metadata": {},
   "outputs": [],
   "source": []
  },
  {
   "cell_type": "code",
   "execution_count": null,
   "metadata": {},
   "outputs": [],
   "source": []
  }
 ],
 "metadata": {
  "kernelspec": {
   "display_name": "Python 3",
   "language": "python",
   "name": "python3"
  },
  "language_info": {
   "codemirror_mode": {
    "name": "ipython",
    "version": 3
   },
   "file_extension": ".py",
   "mimetype": "text/x-python",
   "name": "python",
   "nbconvert_exporter": "python",
   "pygments_lexer": "ipython3",
   "version": "3.7.3"
  }
 },
 "nbformat": 4,
 "nbformat_minor": 2
}
